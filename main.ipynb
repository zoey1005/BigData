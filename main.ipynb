{
 "cells": [
  {
   "cell_type": "code",
   "execution_count": 3,
   "metadata": {
    "collapsed": true,
    "pycharm": {
     "name": "#%%\n"
    }
   },
   "outputs": [],
   "source": [
    "import sys\n",
    "\n",
    "# 输入为标准输入stdin\n",
    "for line in sys.stdin:\n",
    "    # 删除开头和结尾的空行\n",
    "    line = line.strip()\n",
    "    # 以默认空格分隔单词到words列表\n",
    "    words = line.split()\n",
    "    for word in words:\n",
    "        # 输出所有单词，空格为\"单词 1\"以便作为reduce输入\n",
    "        print(\"%s %s\" % (word, 1))"
   ]
  },
  {
   "cell_type": "code",
   "execution_count": 4,
   "outputs": [
    {
     "name": "stdout",
     "output_type": "stream",
     "text": [
      "None\t0\n"
     ]
    }
   ],
   "source": [
    "import sys\n",
    "\n",
    "current_word = None\n",
    "current_count =0\n",
    "word = None\n",
    "\n",
    "# 获取标准输入，即mapper.py的标准输出\n",
    "for line in sys.stdin:\n",
    "    # 删除开头和结尾的空行\n",
    "    line = line.strip()\n",
    "    # 解析mapper.py输出作为程序的输入，以tab作为分隔符\n",
    "    word.count = line.split()\n",
    "    # 转换count从字符型到整型\n",
    "    try:\n",
    "        count = int(count)\n",
    "    except ValueError:\n",
    "        # count非数字时，忽略此行\n",
    "        continue\n",
    "    # 要求mapper.py的输出做排序(sort)操作，以便对连续的word做判断\n",
    "    if current_word==word:\n",
    "        current_word += count\n",
    "    else:\n",
    "        # 出现一个新词\n",
    "        # 输出当前word统计结果到标准输出\n",
    "        if current_word:\n",
    "            print('%s\\t%s' % (current_word, current_count))\n",
    "        # 开始对新词的统计\n",
    "        current_count =count\n",
    "        current_word=word\n",
    "\n",
    "# 输出最后一个word统计\n",
    "if current_word==word:\n",
    "    print(\"%s\\t%s\" % (current_word, current_count))\n"
   ],
   "metadata": {
    "collapsed": false,
    "pycharm": {
     "name": "#%%\n"
    }
   }
  },
  {
   "cell_type": "code",
   "execution_count": null,
   "outputs": [],
   "source": [],
   "metadata": {
    "collapsed": false,
    "pycharm": {
     "name": "#%%\n"
    }
   }
  }
 ],
 "metadata": {
  "kernelspec": {
   "display_name": "Python 3",
   "language": "python",
   "name": "python3"
  },
  "language_info": {
   "codemirror_mode": {
    "name": "ipython",
    "version": 2
   },
   "file_extension": ".py",
   "mimetype": "text/x-python",
   "name": "python",
   "nbconvert_exporter": "python",
   "pygments_lexer": "ipython2",
   "version": "2.7.6"
  }
 },
 "nbformat": 4,
 "nbformat_minor": 0
}